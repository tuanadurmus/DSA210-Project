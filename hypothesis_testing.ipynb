{
 "cells": [
  {
   "cell_type": "code",
   "execution_count": 1,
   "metadata": {},
   "outputs": [
    {
     "name": "stdout",
     "output_type": "stream",
     "text": [
      "📌 Pearson Correlation for Positive Sentiments: r = 0.198, p-value = 0.55889\n",
      "📌 Pearson Correlation for Negative Sentiments: r = 0.089, p-value = 0.79422\n",
      "❌ Fail to reject the null hypothesis for positive sentiments: No significant correlation.\n",
      "❌ Fail to reject the null hypothesis for negative sentiments: No significant correlation.\n"
     ]
    },
    {
     "name": "stderr",
     "output_type": "stream",
     "text": [
      "/var/folders/br/8qqm121s5xd1vfjbgvyx2hfm0000gn/T/ipykernel_63207/3969023946.py:14: UserWarning: Converting to PeriodArray/Index representation will drop timezone information.\n",
      "  spotify_df['month'] = spotify_df['timestamp'].dt.to_period('M')\n"
     ]
    }
   ],
   "source": [
    "import pandas as pd\n",
    "from scipy.stats import pearsonr\n",
    "\n",
    "tiktok_df = pd.read_csv(\"tiktok_sentiment.csv\")  # Ensure the file exists\n",
    "spotify_df = pd.read_csv(\"spotify_sentiment.csv\")  # Ensure the file exists\n",
    "\n",
    "# Convert the date column to datetime format\n",
    "tiktok_df['date'] = pd.to_datetime(tiktok_df['date'])\n",
    "spotify_df['timestamp'] = pd.to_datetime(spotify_df['timestamp'])\n",
    "\n",
    "# Extract year-month for grouping\n",
    "tiktok_df['month'] = tiktok_df['date'].dt.to_period('M')\n",
    "spotify_df['month'] = spotify_df['timestamp'].dt.to_period('M')\n",
    "\n",
    "# Group by month and calculate sentiment percentages\n",
    "tiktok_sentiment = tiktok_df.groupby(['month', 'predicted_sentiment']).size().unstack(fill_value=0)\n",
    "spotify_sentiment = spotify_df.groupby(['month', 'predicted_sentiment']).size().unstack(fill_value=0)\n",
    "\n",
    "# Calculate the percentages of positive and negative content\n",
    "tiktok_sentiment['positive_percentage'] = (tiktok_sentiment['positive'] / tiktok_sentiment.sum(axis=1)) * 100\n",
    "tiktok_sentiment['negative_percentage'] = (tiktok_sentiment['negative'] / tiktok_sentiment.sum(axis=1)) * 100\n",
    "\n",
    "spotify_sentiment['positive_percentage'] = (spotify_sentiment['positive'] / spotify_sentiment.sum(axis=1)) * 100\n",
    "spotify_sentiment['negative_percentage'] = (spotify_sentiment['negative'] / spotify_sentiment.sum(axis=1)) * 100\n",
    "\n",
    "# Align months for comparison\n",
    "common_months = tiktok_sentiment.index.intersection(spotify_sentiment.index)\n",
    "\n",
    "# Extract the positive and negative sentiment percentages for those months\n",
    "tiktok_positive = tiktok_sentiment.loc[common_months, 'positive_percentage']\n",
    "spotify_positive = spotify_sentiment.loc[common_months, 'positive_percentage']\n",
    "\n",
    "tiktok_negative = tiktok_sentiment.loc[common_months, 'negative_percentage']\n",
    "spotify_negative = spotify_sentiment.loc[common_months, 'negative_percentage']\n",
    "\n",
    "# Perform Pearson correlation test\n",
    "corr_pos, p_value_pos = pearsonr(tiktok_positive, spotify_positive)\n",
    "corr_neg, p_value_neg = pearsonr(tiktok_negative, spotify_negative)\n",
    "\n",
    "# Print results\n",
    "print(f\"📌 Pearson Correlation for Positive Sentiments: r = {corr_pos:.3f}, p-value = {p_value_pos:.5f}\")\n",
    "print(f\"📌 Pearson Correlation for Negative Sentiments: r = {corr_neg:.3f}, p-value = {p_value_neg:.5f}\")\n",
    "\n",
    "# Interpret p-values\n",
    "alpha = 0.05  # Significance level\n",
    "\n",
    "if p_value_pos < alpha:\n",
    "    print(\"✅ Reject the null hypothesis for positive sentiments: There is a significant correlation.\")\n",
    "else:\n",
    "    print(\"❌ Fail to reject the null hypothesis for positive sentiments: No significant correlation.\")\n",
    "\n",
    "if p_value_neg < alpha:\n",
    "    print(\"✅ Reject the null hypothesis for negative sentiments: There is a significant correlation.\")\n",
    "else:\n",
    "    print(\"❌ Fail to reject the null hypothesis for negative sentiments: No significant correlation.\")\n"
   ]
  }
 ],
 "metadata": {
  "kernelspec": {
   "display_name": "Python 3",
   "language": "python",
   "name": "python3"
  },
  "language_info": {
   "codemirror_mode": {
    "name": "ipython",
    "version": 3
   },
   "file_extension": ".py",
   "mimetype": "text/x-python",
   "name": "python",
   "nbconvert_exporter": "python",
   "pygments_lexer": "ipython3",
   "version": "3.13.0"
  }
 },
 "nbformat": 4,
 "nbformat_minor": 2
}

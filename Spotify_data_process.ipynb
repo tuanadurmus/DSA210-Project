{
 "cells": [
  {
   "cell_type": "code",
   "execution_count": 2,
   "metadata": {},
   "outputs": [],
   "source": [
    "import pandas as pd"
   ]
  },
  {
   "cell_type": "code",
   "execution_count": null,
   "metadata": {},
   "outputs": [
    {
     "data": {
      "text/html": [
       "<div>\n",
       "<style scoped>\n",
       "    .dataframe tbody tr th:only-of-type {\n",
       "        vertical-align: middle;\n",
       "    }\n",
       "\n",
       "    .dataframe tbody tr th {\n",
       "        vertical-align: top;\n",
       "    }\n",
       "\n",
       "    .dataframe thead th {\n",
       "        text-align: right;\n",
       "    }\n",
       "</style>\n",
       "<table border=\"1\" class=\"dataframe\">\n",
       "  <thead>\n",
       "    <tr style=\"text-align: right;\">\n",
       "      <th></th>\n",
       "      <th>timestamp</th>\n",
       "      <th>track</th>\n",
       "      <th>artist</th>\n",
       "      <th>genre</th>\n",
       "      <th>spotify_track_uri</th>\n",
       "    </tr>\n",
       "  </thead>\n",
       "  <tbody>\n",
       "    <tr>\n",
       "      <th>0</th>\n",
       "      <td>2024-11-01T14:30:09Z</td>\n",
       "      <td>Ne var Ne yok - Çıplak Ayaklar Stüdyosu 2013</td>\n",
       "      <td>Büyük Ev Ablukada</td>\n",
       "      <td>['turkish alternative rock', 'turkish rock']</td>\n",
       "      <td>spotify:track:0n3LVcavogfRZrZVGfx8Rs</td>\n",
       "    </tr>\n",
       "    <tr>\n",
       "      <th>1</th>\n",
       "      <td>2024-11-01T14:34:46Z</td>\n",
       "      <td>Evren Bozması - Çıplak Ayaklar Stüdyosu 2013</td>\n",
       "      <td>Büyük Ev Ablukada</td>\n",
       "      <td>['turkish alternative rock', 'turkish rock']</td>\n",
       "      <td>spotify:track:3SpWYt15hbgTyNKav1lZni</td>\n",
       "    </tr>\n",
       "    <tr>\n",
       "      <th>2</th>\n",
       "      <td>2024-11-01T14:38:33Z</td>\n",
       "      <td>Bi Hıçkırık Gibi - Çıplak Ayaklar Stüdyosu 2013</td>\n",
       "      <td>Büyük Ev Ablukada</td>\n",
       "      <td>['turkish alternative rock', 'turkish rock']</td>\n",
       "      <td>spotify:track:7IhnqSIq2GiXLI0Ao4aW08</td>\n",
       "    </tr>\n",
       "    <tr>\n",
       "      <th>3</th>\n",
       "      <td>2024-11-01T14:45:37Z</td>\n",
       "      <td>Havadar - Çıplak Ayaklar Stüdyosu 2013</td>\n",
       "      <td>Büyük Ev Ablukada</td>\n",
       "      <td>['turkish alternative rock', 'turkish rock']</td>\n",
       "      <td>spotify:track:7eWaQsxQWJiBW1Z8Vw8FkE</td>\n",
       "    </tr>\n",
       "    <tr>\n",
       "      <th>4</th>\n",
       "      <td>2024-11-01T14:45:51Z</td>\n",
       "      <td>En Çirkini Güzellerin - Çıplak Ayaklar Stüdyos...</td>\n",
       "      <td>Büyük Ev Ablukada</td>\n",
       "      <td>['turkish alternative rock', 'turkish rock']</td>\n",
       "      <td>spotify:track:1lq4r9Lk0QY8f3xMZ1AJD3</td>\n",
       "    </tr>\n",
       "  </tbody>\n",
       "</table>\n",
       "</div>"
      ],
      "text/plain": [
       "              timestamp                                              track  \\\n",
       "0  2024-11-01T14:30:09Z       Ne var Ne yok - Çıplak Ayaklar Stüdyosu 2013   \n",
       "1  2024-11-01T14:34:46Z       Evren Bozması - Çıplak Ayaklar Stüdyosu 2013   \n",
       "2  2024-11-01T14:38:33Z    Bi Hıçkırık Gibi - Çıplak Ayaklar Stüdyosu 2013   \n",
       "3  2024-11-01T14:45:37Z             Havadar - Çıplak Ayaklar Stüdyosu 2013   \n",
       "4  2024-11-01T14:45:51Z  En Çirkini Güzellerin - Çıplak Ayaklar Stüdyos...   \n",
       "\n",
       "              artist                                         genre  \\\n",
       "0  Büyük Ev Ablukada  ['turkish alternative rock', 'turkish rock']   \n",
       "1  Büyük Ev Ablukada  ['turkish alternative rock', 'turkish rock']   \n",
       "2  Büyük Ev Ablukada  ['turkish alternative rock', 'turkish rock']   \n",
       "3  Büyük Ev Ablukada  ['turkish alternative rock', 'turkish rock']   \n",
       "4  Büyük Ev Ablukada  ['turkish alternative rock', 'turkish rock']   \n",
       "\n",
       "                      spotify_track_uri  \n",
       "0  spotify:track:0n3LVcavogfRZrZVGfx8Rs  \n",
       "1  spotify:track:3SpWYt15hbgTyNKav1lZni  \n",
       "2  spotify:track:7IhnqSIq2GiXLI0Ao4aW08  \n",
       "3  spotify:track:7eWaQsxQWJiBW1Z8Vw8FkE  \n",
       "4  spotify:track:1lq4r9Lk0QY8f3xMZ1AJD3  "
      ]
     },
     "execution_count": 11,
     "metadata": {},
     "output_type": "execute_result"
    }
   ],
   "source": [
    "df = pd.read_csv(\"spotify_genre_data.csv\",delimiter=\";\")\n",
    "df.head()"
   ]
  },
  {
   "cell_type": "code",
   "execution_count": null,
   "metadata": {},
   "outputs": [],
   "source": [
    "\"\"\"\n",
    "This is the unprocessed version of my Spotify data\n",
    "\"\"\""
   ]
  },
  {
   "cell_type": "code",
   "execution_count": 12,
   "metadata": {},
   "outputs": [],
   "source": [
    "df.drop(columns=['artist'], inplace=True)\n",
    "df.drop(columns=['track'], inplace=True)\n",
    "df.drop(columns=['spotify_track_uri'], inplace=True)\n"
   ]
  },
  {
   "cell_type": "code",
   "execution_count": null,
   "metadata": {},
   "outputs": [],
   "source": [
    "\"\"\"\n",
    "Since I do not need the artist,track and spotify track uri info anymore, to gain a clean dataset I drop the columns\n",
    "\"\"\""
   ]
  },
  {
   "cell_type": "code",
   "execution_count": 14,
   "metadata": {},
   "outputs": [
    {
     "data": {
      "text/html": [
       "<div>\n",
       "<style scoped>\n",
       "    .dataframe tbody tr th:only-of-type {\n",
       "        vertical-align: middle;\n",
       "    }\n",
       "\n",
       "    .dataframe tbody tr th {\n",
       "        vertical-align: top;\n",
       "    }\n",
       "\n",
       "    .dataframe thead th {\n",
       "        text-align: right;\n",
       "    }\n",
       "</style>\n",
       "<table border=\"1\" class=\"dataframe\">\n",
       "  <thead>\n",
       "    <tr style=\"text-align: right;\">\n",
       "      <th></th>\n",
       "      <th>timestamp</th>\n",
       "      <th>genre</th>\n",
       "    </tr>\n",
       "  </thead>\n",
       "  <tbody>\n",
       "    <tr>\n",
       "      <th>0</th>\n",
       "      <td>2024-11-01T14:30:09Z</td>\n",
       "      <td>['turkish alternative rock', 'turkish rock']</td>\n",
       "    </tr>\n",
       "    <tr>\n",
       "      <th>1</th>\n",
       "      <td>2024-11-01T14:34:46Z</td>\n",
       "      <td>['turkish alternative rock', 'turkish rock']</td>\n",
       "    </tr>\n",
       "    <tr>\n",
       "      <th>2</th>\n",
       "      <td>2024-11-01T14:38:33Z</td>\n",
       "      <td>['turkish alternative rock', 'turkish rock']</td>\n",
       "    </tr>\n",
       "    <tr>\n",
       "      <th>3</th>\n",
       "      <td>2024-11-01T14:45:37Z</td>\n",
       "      <td>['turkish alternative rock', 'turkish rock']</td>\n",
       "    </tr>\n",
       "    <tr>\n",
       "      <th>4</th>\n",
       "      <td>2024-11-01T14:45:51Z</td>\n",
       "      <td>['turkish alternative rock', 'turkish rock']</td>\n",
       "    </tr>\n",
       "  </tbody>\n",
       "</table>\n",
       "</div>"
      ],
      "text/plain": [
       "              timestamp                                         genre\n",
       "0  2024-11-01T14:30:09Z  ['turkish alternative rock', 'turkish rock']\n",
       "1  2024-11-01T14:34:46Z  ['turkish alternative rock', 'turkish rock']\n",
       "2  2024-11-01T14:38:33Z  ['turkish alternative rock', 'turkish rock']\n",
       "3  2024-11-01T14:45:37Z  ['turkish alternative rock', 'turkish rock']\n",
       "4  2024-11-01T14:45:51Z  ['turkish alternative rock', 'turkish rock']"
      ]
     },
     "execution_count": 14,
     "metadata": {},
     "output_type": "execute_result"
    }
   ],
   "source": [
    "# Remove rows where 'hashtags' column contains 'Error' or is empty\n",
    "df = df[df['genre'].str.contains('Error') == False]\n",
    "df = df[df['genre'].notna()]  # Remove NaN values\n",
    "df.head()"
   ]
  },
  {
   "cell_type": "code",
   "execution_count": null,
   "metadata": {},
   "outputs": [],
   "source": [
    "\"\"\"\n",
    "Additionally, I got rid of the songs without any matched genre\n",
    "\"\"\""
   ]
  }
 ],
 "metadata": {
  "kernelspec": {
   "display_name": "Python 3",
   "language": "python",
   "name": "python3"
  },
  "language_info": {
   "codemirror_mode": {
    "name": "ipython",
    "version": 3
   },
   "file_extension": ".py",
   "mimetype": "text/x-python",
   "name": "python",
   "nbconvert_exporter": "python",
   "pygments_lexer": "ipython3",
   "version": "3.13.0"
  }
 },
 "nbformat": 4,
 "nbformat_minor": 2
}

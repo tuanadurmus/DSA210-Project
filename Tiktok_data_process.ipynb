{
 "cells": [
  {
   "cell_type": "code",
   "execution_count": 27,
   "metadata": {},
   "outputs": [],
   "source": [
    "import pandas as pd"
   ]
  },
  {
   "cell_type": "code",
   "execution_count": null,
   "metadata": {},
   "outputs": [
    {
     "data": {
      "text/html": [
       "<div>\n",
       "<style scoped>\n",
       "    .dataframe tbody tr th:only-of-type {\n",
       "        vertical-align: middle;\n",
       "    }\n",
       "\n",
       "    .dataframe tbody tr th {\n",
       "        vertical-align: top;\n",
       "    }\n",
       "\n",
       "    .dataframe thead th {\n",
       "        text-align: right;\n",
       "    }\n",
       "</style>\n",
       "<table border=\"1\" class=\"dataframe\">\n",
       "  <thead>\n",
       "    <tr style=\"text-align: right;\">\n",
       "      <th></th>\n",
       "      <th>date</th>\n",
       "      <th>url</th>\n",
       "      <th>hashtags</th>\n",
       "    </tr>\n",
       "  </thead>\n",
       "  <tbody>\n",
       "    <tr>\n",
       "      <th>0</th>\n",
       "      <td>2024-11-28 16:57:35</td>\n",
       "      <td>https://www.tiktokv.com/share/video/7434264922...</td>\n",
       "      <td>Error: Message: \\r\\n</td>\n",
       "    </tr>\n",
       "    <tr>\n",
       "      <th>1</th>\n",
       "      <td>2024-11-28 16:57:27</td>\n",
       "      <td>https://www.tiktokv.com/share/video/7441786080...</td>\n",
       "      <td>['#foryou', '#fypシ゚viral', '#fyp']</td>\n",
       "    </tr>\n",
       "    <tr>\n",
       "      <th>2</th>\n",
       "      <td>2024-11-28 16:56:34</td>\n",
       "      <td>https://www.tiktokv.com/share/video/7441962762...</td>\n",
       "      <td>Error: Message: \\r\\n</td>\n",
       "    </tr>\n",
       "    <tr>\n",
       "      <th>3</th>\n",
       "      <td>2024-11-28 16:56:07</td>\n",
       "      <td>https://www.tiktokv.com/share/video/7442308091...</td>\n",
       "      <td>Error: Message: \\r\\n</td>\n",
       "    </tr>\n",
       "    <tr>\n",
       "      <th>4</th>\n",
       "      <td>2024-11-28 16:55:59</td>\n",
       "      <td>https://www.tiktokv.com/share/video/7442088343...</td>\n",
       "      <td>Error: Message: \\r\\n</td>\n",
       "    </tr>\n",
       "  </tbody>\n",
       "</table>\n",
       "</div>"
      ],
      "text/plain": [
       "                  date                                                url  \\\n",
       "0  2024-11-28 16:57:35  https://www.tiktokv.com/share/video/7434264922...   \n",
       "1  2024-11-28 16:57:27  https://www.tiktokv.com/share/video/7441786080...   \n",
       "2  2024-11-28 16:56:34  https://www.tiktokv.com/share/video/7441962762...   \n",
       "3  2024-11-28 16:56:07  https://www.tiktokv.com/share/video/7442308091...   \n",
       "4  2024-11-28 16:55:59  https://www.tiktokv.com/share/video/7442088343...   \n",
       "\n",
       "                             hashtags  \n",
       "0                Error: Message: \\r\\n  \n",
       "1  ['#foryou', '#fypシ゚viral', '#fyp']  \n",
       "2                Error: Message: \\r\\n  \n",
       "3                Error: Message: \\r\\n  \n",
       "4                Error: Message: \\r\\n  "
      ]
     },
     "execution_count": 33,
     "metadata": {},
     "output_type": "execute_result"
    }
   ],
   "source": [
    "df = pd.read_csv(\"tiktok_hashtags.csv\",delimiter=\";\")\n",
    "df.head()"
   ]
  },
  {
   "cell_type": "code",
   "execution_count": null,
   "metadata": {},
   "outputs": [],
   "source": [
    "\"\"\"\n",
    "This is the unprocessed version of my TikTok data\n",
    "\"\"\""
   ]
  },
  {
   "cell_type": "code",
   "execution_count": 34,
   "metadata": {},
   "outputs": [],
   "source": [
    "df.drop(columns=['url'], inplace=True)"
   ]
  },
  {
   "cell_type": "code",
   "execution_count": null,
   "metadata": {},
   "outputs": [],
   "source": [
    "\"\"\"\n",
    "Since I do not need the url info anymore, to gain a clean dataset I drop the column\n",
    "\"\"\""
   ]
  },
  {
   "cell_type": "code",
   "execution_count": 35,
   "metadata": {},
   "outputs": [
    {
     "data": {
      "text/html": [
       "<div>\n",
       "<style scoped>\n",
       "    .dataframe tbody tr th:only-of-type {\n",
       "        vertical-align: middle;\n",
       "    }\n",
       "\n",
       "    .dataframe tbody tr th {\n",
       "        vertical-align: top;\n",
       "    }\n",
       "\n",
       "    .dataframe thead th {\n",
       "        text-align: right;\n",
       "    }\n",
       "</style>\n",
       "<table border=\"1\" class=\"dataframe\">\n",
       "  <thead>\n",
       "    <tr style=\"text-align: right;\">\n",
       "      <th></th>\n",
       "      <th>date</th>\n",
       "      <th>hashtags</th>\n",
       "    </tr>\n",
       "  </thead>\n",
       "  <tbody>\n",
       "    <tr>\n",
       "      <th>1</th>\n",
       "      <td>2024-11-28 16:57:27</td>\n",
       "      <td>['#foryou', '#fypシ゚viral', '#fyp']</td>\n",
       "    </tr>\n",
       "    <tr>\n",
       "      <th>6</th>\n",
       "      <td>2024-11-28 00:36:28</td>\n",
       "      <td>['#womeninmalefields']</td>\n",
       "    </tr>\n",
       "    <tr>\n",
       "      <th>9</th>\n",
       "      <td>2024-11-28 00:09:58</td>\n",
       "      <td>['#fyp', '', '', '', '', '']</td>\n",
       "    </tr>\n",
       "    <tr>\n",
       "      <th>10</th>\n",
       "      <td>2024-11-28 00:09:38</td>\n",
       "      <td>['#blender', '#cat', '#prayer', '#fyp']</td>\n",
       "    </tr>\n",
       "    <tr>\n",
       "      <th>11</th>\n",
       "      <td>2024-11-27 11:57:34</td>\n",
       "      <td>['#tomholland', '#kendalljenner', '#charleslec...</td>\n",
       "    </tr>\n",
       "  </tbody>\n",
       "</table>\n",
       "</div>"
      ],
      "text/plain": [
       "                   date                                           hashtags\n",
       "1   2024-11-28 16:57:27                 ['#foryou', '#fypシ゚viral', '#fyp']\n",
       "6   2024-11-28 00:36:28                             ['#womeninmalefields']\n",
       "9   2024-11-28 00:09:58                       ['#fyp', '', '', '', '', '']\n",
       "10  2024-11-28 00:09:38            ['#blender', '#cat', '#prayer', '#fyp']\n",
       "11  2024-11-27 11:57:34  ['#tomholland', '#kendalljenner', '#charleslec..."
      ]
     },
     "execution_count": 35,
     "metadata": {},
     "output_type": "execute_result"
    }
   ],
   "source": [
    "# Remove rows where 'hashtags' column contains 'Error' or is empty\n",
    "df = df[df['hashtags'].str.contains('Error') == False]\n",
    "df = df[df['hashtags'].notna()]  # Remove NaN values\n",
    "df.head()"
   ]
  },
  {
   "cell_type": "code",
   "execution_count": null,
   "metadata": {},
   "outputs": [],
   "source": [
    "\"\"\"\n",
    "Additionally, I got rid of the videos which do not have any hashtags\n",
    "\"\"\""
   ]
  }
 ],
 "metadata": {
  "kernelspec": {
   "display_name": "Python 3",
   "language": "python",
   "name": "python3"
  },
  "language_info": {
   "codemirror_mode": {
    "name": "ipython",
    "version": 3
   },
   "file_extension": ".py",
   "mimetype": "text/x-python",
   "name": "python",
   "nbconvert_exporter": "python",
   "pygments_lexer": "ipython3",
   "version": "3.13.0"
  }
 },
 "nbformat": 4,
 "nbformat_minor": 2
}
